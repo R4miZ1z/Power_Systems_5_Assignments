{
 "cells": [
  {
   "cell_type": "code",
   "id": "initial_id",
   "metadata": {
    "collapsed": true,
    "ExecuteTime": {
     "end_time": "2025-02-07T02:31:50.377823Z",
     "start_time": "2025-02-07T02:31:50.361658Z"
    }
   },
   "source": "import numpy as np",
   "outputs": [],
   "execution_count": 381
  },
  {
   "metadata": {
    "ExecuteTime": {
     "end_time": "2025-02-07T02:31:50.212491700Z",
     "start_time": "2025-02-06T15:55:43.258022Z"
    }
   },
   "cell_type": "code",
   "source": [
    "def P2R(radii, angle, round_num: bool = True, round_dec=3) -> complex:\n",
    "    angle = angle * np.pi / 180\n",
    "    return np.round(radii * (np.cos(angle) + 1j * np.sin(angle)), round_dec) if round_num == True else (radii * (np.cos(angle) + 1j * np.sin(angle)))\n",
    "\n",
    "def R2P(x: complex, round_num = True, string: bool = False, sym: str = \"\", base: float = 1, round_dec = 3) -> list[float]|str:\n",
    "    if not string:\n",
    "        return [round(abs(x), round_dec), round(np.angle(x, deg = True), round_dec)] if round_num == True else [abs(x), np.angle(3)]\n",
    "    else:\n",
    "        return (\n",
    "            f\"{round(abs(x) * base, round_dec):>6} {sym} ∠ {round(np.angle(x, deg = True), round_dec):>6}\"\n",
    "            u\"\\N{DEGREE SIGN}\"\n",
    "        )"
   ],
   "id": "757ae86e80dd2925",
   "outputs": [],
   "execution_count": 373
  },
  {
   "metadata": {
    "ExecuteTime": {
     "end_time": "2025-02-07T02:31:50.248640500Z",
     "start_time": "2025-02-06T15:55:43.290527Z"
    }
   },
   "cell_type": "code",
   "source": [
    "s_base: float = 100 * 10**6         # 100 MVA base\n",
    "v_base: float = 400 * 10**3         # 400 kV base\n",
    "z_base: float = v_base**2 / s_base  # Z = V^2 / S\n",
    "i_base: float = s_base / v_base     # I = S / V"
   ],
   "id": "d6701773b0950f0b",
   "outputs": [],
   "execution_count": 374
  },
  {
   "metadata": {
    "ExecuteTime": {
     "end_time": "2025-02-07T02:31:50.249641100Z",
     "start_time": "2025-02-06T15:55:43.312658Z"
    }
   },
   "cell_type": "code",
   "source": [
    "line_1_2: complex = (0.00 + (0.64j * 100)) / z_base     # impedance from bus 1 to bus 2\n",
    "line_1_3: complex = (0.00 + (0.64j * 62.5)) / z_base    # impedance from bus 1 to bus 3\n",
    "line_2_3: complex = (0.00 + (0.64j * 50)) / z_base      # impedance from bus 2 to bus 3\n",
    "\n",
    "# Construct impedance matrix\n",
    "imp_matrix: list[complex] = [\n",
    "    line_1_2,\n",
    "    line_1_3,\n",
    "    line_2_3,\n",
    "]\n",
    "\n",
    "imp_matrix"
   ],
   "id": "5b040e9ade7bc199",
   "outputs": [
    {
     "data": {
      "text/plain": [
       "[0.04j, 0.025j, 0.02j]"
      ]
     },
     "execution_count": 375,
     "metadata": {},
     "output_type": "execute_result"
    }
   ],
   "execution_count": 375
  },
  {
   "metadata": {
    "ExecuteTime": {
     "end_time": "2025-02-07T02:31:50.249641100Z",
     "start_time": "2025-02-06T15:55:43.366179Z"
    }
   },
   "cell_type": "code",
   "source": [
    "# Convert impedance to admittances\n",
    "add_line_1_2: complex = 1 / line_1_2  \n",
    "add_line_1_3: complex = 1 / line_1_3\n",
    "add_line_2_3: complex = 1 / line_2_3\n",
    "\n",
    "add_vector = [add_line_1_2, add_line_1_3, add_line_2_3]\n",
    "\n",
    "# Create self admittances\n",
    "Y_11: complex = add_line_1_2 + add_line_1_3\n",
    "Y_22: complex = add_line_1_2 + add_line_2_3\n",
    "Y_33: complex = add_line_1_3 + add_line_2_3\n",
    "\n",
    "# Create mutual admittances\n",
    "Y_12: complex = -add_line_1_2\n",
    "Y_13: complex = -add_line_1_3\n",
    "\n",
    "Y_21: complex = -add_line_1_2\n",
    "Y_23: complex = -add_line_2_3\n",
    "\n",
    "Y_31: complex = -add_line_1_3\n",
    "Y_32: complex = -add_line_2_3\n",
    "\n",
    "# Construct admittance matrix\n",
    "admittance_matrix: np.ndarray = np.array(\n",
    "    [\n",
    "        [Y_11, Y_12, Y_13],\n",
    "        [Y_21, Y_22, Y_23],\n",
    "        [Y_31, Y_32, Y_33]\n",
    "    ]\n",
    ")\n",
    "\n",
    "print(\"Admittance Matrix\")\n",
    "for i in admittance_matrix:\n",
    "    print(f\"{\"|\":^1} {i[0].imag:>6.2f}j {i[1].imag:>6.2f}j {i[2].imag:>6.2f}j {\"|\":^1}\")"
   ],
   "id": "ccc72ae12e864a00",
   "outputs": [
    {
     "name": "stdout",
     "output_type": "stream",
     "text": [
      "Admittance Matrix\n",
      "| -65.00j  25.00j  40.00j |\n",
      "|  25.00j -75.00j  50.00j |\n",
      "|  40.00j  50.00j -90.00j |\n"
     ]
    }
   ],
   "execution_count": 376
  },
  {
   "metadata": {
    "ExecuteTime": {
     "end_time": "2025-02-07T02:31:50.250641Z",
     "start_time": "2025-02-06T15:55:43.417682Z"
    }
   },
   "cell_type": "code",
   "source": [
    "emf_1: complex = P2R(1.000, 0.000, round_num=False)   # EMF at bus 1\n",
    "emf_2: complex = P2R(0.986, -1.799, round_num=False)  # EMF at bus 2\n",
    "emf_3: complex = P2R(1.000, -0.345, round_num=False)  # EMF at bus 3\n",
    "\n",
    "# Create EMF matrix\n",
    "emf_matrix = np.array(\n",
    "    [\n",
    "        [emf_1],\n",
    "        [emf_2],\n",
    "        [emf_3]\n",
    "    ]\n",
    ")\n",
    "\n",
    "# Print out EMF values in rectangular form\n",
    "print(f\"{\"|\":^1} {\"Bus\":^6} {\"|\":^1} {\"EMF\":^19} {\"|\":^1}\")\n",
    "print(f\"{\"|\":^1} {\"------\"} {\"|\":^1} {\"-------------------\"} {\"|\":^1}\")\n",
    "for i in range(len(emf_matrix)):\n",
    "    neg_sign_real = False if emf_matrix[i][0].real >= 0 else True\n",
    "    neg_sign_imag = False if emf_matrix[i][0].imag >= 0 else True\n",
    "    print(f\"{\"|\":1} {i + 1:^6} {\"|\":^1} \"\n",
    "        f\"{\"-\" if neg_sign_real == True else \"+\":^3}\"\n",
    "        f\"{abs(emf_matrix[i][0].real):^4.3f}\"\n",
    "        f\"{\"-\" if neg_sign_imag == True else \"+\":^3}\"\n",
    "        f\"{abs(emf_matrix[i][0].imag):^4.3f}\"\n",
    "        f\"{\"j V\":^3}\"\n",
    "        f\" {\"|\":^1}\"\n",
    "    )"
   ],
   "id": "10e6720f97b06df6",
   "outputs": [
    {
     "name": "stdout",
     "output_type": "stream",
     "text": [
      "|  Bus   |         EMF         |\n",
      "| ------ | ------------------- |\n",
      "|   1    |  + 1.000 + 0.000j V |\n",
      "|   2    |  + 0.986 - 0.031j V |\n",
      "|   3    |  + 1.000 - 0.006j V |\n"
     ]
    }
   ],
   "execution_count": 377
  },
  {
   "metadata": {
    "ExecuteTime": {
     "end_time": "2025-02-07T02:31:50.250641Z",
     "start_time": "2025-02-06T15:55:43.454860Z"
    }
   },
   "cell_type": "code",
   "source": [
    "# Calculate branch currents\n",
    "branch_currents = {\n",
    "    \"I_12\": add_line_1_2 * (emf_1 - emf_2),\n",
    "    \"I_13\": add_line_1_3 * (emf_1 - emf_3),\n",
    "    \"I_21\": add_line_1_2 * (emf_2 - emf_1),\n",
    "    \"I_23\": add_line_2_3 * (emf_2 - emf_3),\n",
    "    \"I_31\": add_line_1_3 * (emf_3 - emf_1),\n",
    "    \"I_32\": add_line_2_3 * (emf_3 - emf_2),\n",
    "}\n",
    "\n",
    "# branch_currents = {\n",
    "#     \"I_12\": (emf_1 - emf_2) / imp_matrix[0],\n",
    "#     \"I_13\": (emf_1 - emf_3) / imp_matrix[1],\n",
    "#     \"I_21\": (emf_2 - emf_1) / imp_matrix[0],\n",
    "#     \"I_23\": (emf_2 - emf_3) / imp_matrix[2],\n",
    "#     \"I_31\": (emf_3 - emf_1) / imp_matrix[1],\n",
    "#     \"I_32\": (emf_3 - emf_2) / imp_matrix[2],\n",
    "# }\n",
    "\n",
    "\n",
    "# Print branch currents in PU\n",
    "print(\"Branch Currents in PU\")\n",
    "for key, value in branch_currents.items():\n",
    "    print(f\"{key}: {R2P(value, string = True, round_dec=5)}\")\n",
    "print(\"\\n\")\n",
    "\n",
    "# Print branch currents in Amperes\n",
    "print(\"Branch Currents in Amps\")\n",
    "for key, value in branch_currents.items():\n",
    "    print(f\"{key}: {R2P(value, string = True, sym = \"A\", base = i_base)}\")"
   ],
   "id": "b7b7d7be3630bd",
   "outputs": [
    {
     "name": "stdout",
     "output_type": "stream",
     "text": [
      "Branch Currents in PU\n",
      "I_12: 0.85439  ∠ -25.079°\n",
      "I_13: 0.24086  ∠ -0.1725°\n",
      "I_21: 0.85439  ∠ 154.921°\n",
      "I_23: 1.44131  ∠ 149.87417°\n",
      "I_31: 0.24086  ∠ 179.8275°\n",
      "I_32: 1.44131  ∠ -30.12583°\n",
      "\n",
      "\n",
      "Branch Currents in Amps\n",
      "I_12: 213.598 A ∠ -25.079°\n",
      "I_13: 60.214 A ∠ -0.172°\n",
      "I_21: 213.598 A ∠ 154.921°\n",
      "I_23: 360.327 A ∠ 149.874°\n",
      "I_31: 60.214 A ∠ 179.828°\n",
      "I_32: 360.327 A ∠ -30.126°\n"
     ]
    }
   ],
   "execution_count": 378
  },
  {
   "metadata": {
    "ExecuteTime": {
     "end_time": "2025-02-07T02:31:50.250974200Z",
     "start_time": "2025-02-06T15:55:43.595245Z"
    }
   },
   "cell_type": "code",
   "source": [
    "# Branch power flows\n",
    "apparent_power = {\n",
    "    \"S_12\": emf_matrix[0][0] * np.conj(branch_currents[\"I_12\"]),\n",
    "    \"S_13\": emf_matrix[0][0] * np.conj(branch_currents[\"I_13\"]),\n",
    "    \"S_21\": emf_matrix[1][0] * np.conj(branch_currents[\"I_21\"]),\n",
    "    \"S_23\": emf_matrix[1][0] * np.conj(branch_currents[\"I_23\"]),\n",
    "    \"S_31\": emf_matrix[2][0] * np.conj(branch_currents[\"I_31\"]),\n",
    "    \"S_32\": emf_matrix[2][0] * np.conj(branch_currents[\"I_32\"]),\n",
    "}\n",
    "\n",
    "print(\"Branch Power Flows in MVA\")\n",
    "for key, value in apparent_power.items():\n",
    "    print(f\"{key}: {R2P(value, string = True, sym = \"MVA\", base = s_base / 10**6)}\")\n",
    "print(\"\\n\")\n",
    "\n",
    "print(\"Branch Power Flows in MW and MVAr\")\n",
    "for key, value in apparent_power.items():\n",
    "    print(f\"{key}: {round(value.real * 100, 3):>8} {\"MW &\":^5} {round(value.imag * 100, 3):>8} MVAr\")"
   ],
   "id": "ba14296d490efc68",
   "outputs": [
    {
     "name": "stdout",
     "output_type": "stream",
     "text": [
      "Branch Power Flows in MVA\n",
      "S_12: 85.439 MVA ∠ 25.079°\n",
      "S_13: 24.086 MVA ∠  0.172°\n",
      "S_21: 84.243 MVA ∠ -156.72°\n",
      "S_23: 142.113 MVA ∠ -151.673°\n",
      "S_31: 24.086 MVA ∠ 179.827°\n",
      "S_32: 144.131 MVA ∠ 29.781°\n",
      "\n",
      "\n",
      "Branch Power Flows in MW and MVAr\n",
      "S_12:   77.385 MW &    36.215 MVAr\n",
      "S_13:   24.085 MW &     0.073 MVAr\n",
      "S_21:  -77.385 MW &   -33.295 MVAr\n",
      "S_23: -125.096 MW &   -67.433 MVAr\n",
      "S_31:  -24.085 MW &     0.073 MVAr\n",
      "S_32:  125.096 MW &    71.587 MVAr\n"
     ]
    }
   ],
   "execution_count": 379
  },
  {
   "metadata": {
    "ExecuteTime": {
     "end_time": "2025-02-07T02:31:50.250974200Z",
     "start_time": "2025-02-06T15:55:43.724196Z"
    }
   },
   "cell_type": "code",
   "source": [
    "bus_1 = P2R(1.000, 0.000, round_num=False)\n",
    "bus_2 = P2R(0.986, -1.799, round_num=False)\n",
    "bus_3 = P2R(1.000, -0.345, round_num=False)\n",
    "\n",
    "vol_1_2_pu = R2P(bus_1 - bus_2, string = True)\n",
    "vol_1_3_pu = R2P(bus_1 - bus_3, string = True)\n",
    "vol_2_3_pu = R2P(bus_2 - bus_3, string = True)\n",
    "\n",
    "vol_1_2 = R2P(bus_1 - bus_2, string = True, sym = \"kV\", base = v_base/1000)\n",
    "vol_1_3 = R2P(bus_1 - bus_3, string = True, sym = \"kV\", base = v_base/1000)\n",
    "vol_2_3 = R2P(bus_2 - bus_3, string = True, sym = \"kV\", base = v_base/1000)\n",
    "\n",
    "vol_rec = [bus_1 - bus_2, bus_1 - bus_3, bus_2 - bus_3]\n",
    "\n",
    "print(f\"voltage 1 -> 2: {vol_1_2}\")\n",
    "print(f\"voltage 1 -> 3: {vol_1_3}\")\n",
    "print(f\"voltage 1 -> 2: {vol_2_3}\")\n",
    "print(f\"\\n\")\n",
    "\n",
    "print(f\"voltage 1 -> 2: {vol_1_2_pu}\")\n",
    "print(f\"voltage 1 -> 3: {vol_1_3_pu}\")\n",
    "print(f\"voltage 1 -> 2: {vol_2_3_pu}\")\n"
   ],
   "id": "7dc4d930005bb7a1",
   "outputs": [
    {
     "name": "stdout",
     "output_type": "stream",
     "text": [
      "voltage 1 -> 2:  13.67 kV ∠ 64.921°\n",
      "voltage 1 -> 3:  2.409 kV ∠ 89.828°\n",
      "voltage 1 -> 2:  11.53 kV ∠ -120.126°\n",
      "\n",
      "\n",
      "voltage 1 -> 2:  0.034  ∠ 64.921°\n",
      "voltage 1 -> 3:  0.006  ∠ 89.828°\n",
      "voltage 1 -> 2:  0.029  ∠ -120.126°\n"
     ]
    }
   ],
   "execution_count": 380
  }
 ],
 "metadata": {
  "kernelspec": {
   "display_name": "Python 3",
   "language": "python",
   "name": "python3"
  },
  "language_info": {
   "codemirror_mode": {
    "name": "ipython",
    "version": 2
   },
   "file_extension": ".py",
   "mimetype": "text/x-python",
   "name": "python",
   "nbconvert_exporter": "python",
   "pygments_lexer": "ipython2",
   "version": "2.7.6"
  }
 },
 "nbformat": 4,
 "nbformat_minor": 5
}
