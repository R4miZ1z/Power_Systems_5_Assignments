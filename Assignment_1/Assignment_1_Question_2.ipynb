{
 "cells": [
  {
   "cell_type": "code",
   "id": "initial_id",
   "metadata": {
    "collapsed": true,
    "ExecuteTime": {
     "end_time": "2025-02-06T00:50:01.266194Z",
     "start_time": "2025-02-06T00:50:01.253764Z"
    }
   },
   "source": "import numpy as np",
   "outputs": [],
   "execution_count": 19
  },
  {
   "metadata": {
    "ExecuteTime": {
     "end_time": "2025-02-06T00:50:01.714786Z",
     "start_time": "2025-02-06T00:50:01.701103Z"
    }
   },
   "cell_type": "code",
   "source": [
    "def P2R(radii, angles) -> complex:\n",
    "    return np.round(radii * np.exp(1j*angles), 3)\n",
    "\n",
    "def R2P(x: complex, string: bool = False, sym: str = \"\", base: float = 1) -> list[float]|str:\n",
    "    if not string:\n",
    "        return [round(abs(x), 3), round(np.angle(x), 3)]\n",
    "    else:\n",
    "        return (\n",
    "            f\"{round(abs(x) * base, 3):>6} {sym} ∠ {round(np.angle(x), 3):>6}\"\n",
    "            u\"\\N{DEGREE SIGN}\"\n",
    "        )"
   ],
   "id": "757ae86e80dd2925",
   "outputs": [],
   "execution_count": 20
  },
  {
   "metadata": {
    "ExecuteTime": {
     "end_time": "2025-02-06T00:50:02.359136Z",
     "start_time": "2025-02-06T00:50:02.329170Z"
    }
   },
   "cell_type": "code",
   "source": [
    "s_base: float = 100 * 10**6         # 100 MVA base\n",
    "v_base: float = 400 * 10**3         # 400 kV base\n",
    "z_base: float = v_base**2 / s_base  # Z = V^2 / S\n",
    "i_base: float = s_base / v_base     # I = S / V"
   ],
   "id": "d6701773b0950f0b",
   "outputs": [],
   "execution_count": 21
  },
  {
   "metadata": {
    "ExecuteTime": {
     "end_time": "2025-02-06T00:50:02.643510Z",
     "start_time": "2025-02-06T00:50:02.628017Z"
    }
   },
   "cell_type": "code",
   "source": [
    "line_1_2: complex = (0.00 + (0.64j * 100)) / z_base     # impedance from bus 1 to bus 2\n",
    "line_1_3: complex = (0.00 + (0.64j * 62.5)) / z_base    # impedance from bus 1 to bus 3\n",
    "line_2_3: complex = (0.00 + (0.64j * 50)) / z_base      # impedance from bus 2 to bus 3\n",
    "\n",
    "# Construct impedance matrix\n",
    "imp_matrix: list[complex] = [\n",
    "    line_1_2,\n",
    "    line_1_3,\n",
    "    line_2_3,\n",
    "]\n",
    "\n",
    "imp_matrix"
   ],
   "id": "5b040e9ade7bc199",
   "outputs": [
    {
     "data": {
      "text/plain": [
       "[0.04j, 0.025j, 0.02j]"
      ]
     },
     "execution_count": 22,
     "metadata": {},
     "output_type": "execute_result"
    }
   ],
   "execution_count": 22
  },
  {
   "metadata": {
    "ExecuteTime": {
     "end_time": "2025-02-06T01:20:31.949672Z",
     "start_time": "2025-02-06T01:20:31.940881Z"
    }
   },
   "cell_type": "code",
   "source": [
    "# Convert impedance to admittances\n",
    "add_line_1_2: complex = 1 / line_1_2  \n",
    "add_line_1_3: complex = 1 / line_1_3\n",
    "add_line_2_3: complex = 1 / line_2_3\n",
    "\n",
    "# Create self admittances\n",
    "Y_11: complex = add_line_1_2 + add_line_1_3\n",
    "Y_22: complex = add_line_1_2 + add_line_2_3\n",
    "Y_33: complex = add_line_1_3 + add_line_2_3\n",
    "\n",
    "# Create mutual admittances\n",
    "Y_12: complex = -add_line_1_2\n",
    "Y_13: complex = -add_line_1_3\n",
    "\n",
    "Y_21: complex = -add_line_1_2\n",
    "Y_23: complex = -add_line_2_3\n",
    "\n",
    "Y_31: complex = -add_line_1_3\n",
    "Y_32: complex = -add_line_2_3\n",
    "\n",
    "# Construct admittance matrix\n",
    "admittance_matrix: np.ndarray = np.array(\n",
    "    [\n",
    "        [Y_11, Y_12, Y_13],\n",
    "        [Y_21, Y_22, Y_23],\n",
    "        [Y_31, Y_32, Y_33]\n",
    "    ]\n",
    ")\n",
    "\n",
    "print(\"Admittance Matrix\")\n",
    "for i in admittance_matrix:\n",
    "    print(f\"{\"|\":^1} {i[0].imag:>6.2f}j {i[1].imag:>6.2f}j {i[2].imag:>6.2f}j {\"|\":^1}\")"
   ],
   "id": "ccc72ae12e864a00",
   "outputs": [
    {
     "name": "stdout",
     "output_type": "stream",
     "text": [
      "| -65.00j  25.00j  40.00j |\n",
      "|  25.00j -75.00j  50.00j |\n",
      "|  40.00j  50.00j -90.00j |\n"
     ]
    }
   ],
   "execution_count": 53
  },
  {
   "metadata": {
    "ExecuteTime": {
     "end_time": "2025-02-06T01:22:19.533462Z",
     "start_time": "2025-02-06T01:22:19.526068Z"
    }
   },
   "cell_type": "code",
   "source": [
    "emf_1: complex = P2R(1.000, 0.000)      # EMF at bus 1\n",
    "emf_2: complex = P2R(0.986, -1.799)     # EMF at bus 2\n",
    "emf_3: complex = P2R(1.000, -0.345)     # EMF at bus 3\n",
    "\n",
    "# Create EMF matrix\n",
    "emf_matrix = np.array(\n",
    "    [\n",
    "        [emf_1],\n",
    "        [emf_2],\n",
    "        [emf_3]\n",
    "    ]\n",
    ")\n",
    "\n",
    "# Print out EMF values in rectangular form\n",
    "print(f\"{\"|\":^1} {\"Bus\":^6} {\"|\":^1} {\"EMF\":^19} {\"|\":^1}\")\n",
    "print(f\"{\"|\":^1} {\"------\"} {\"|\":^1} {\"-------------------\"} {\"|\":^1}\")\n",
    "for i in range(len(emf_matrix)):\n",
    "    neg_sign_real = False if emf_matrix[i][0].real >= 0 else True\n",
    "    neg_sign_imag = False if emf_matrix[i][0].imag >= 0 else True\n",
    "    print(f\"{\"|\":1} {i + 1:^6} {\"|\":^1} \"\n",
    "        f\"{\"-\" if neg_sign_real == True else \"+\":^3}\"\n",
    "        f\"{abs(emf_matrix[i][0].real):^4.3f}\"\n",
    "        f\"{\"-\" if neg_sign_imag == True else \"+\":^3}\"\n",
    "        f\"{abs(emf_matrix[i][0].imag):^4.3f}\"\n",
    "        f\"{\"j V\":^3}\"\n",
    "        f\" {\"|\":^1}\"\n",
    "    )"
   ],
   "id": "10e6720f97b06df6",
   "outputs": [
    {
     "name": "stdout",
     "output_type": "stream",
     "text": [
      "|  Bus   |         EMF         |\n",
      "| ------ | ------------------- |\n",
      "|   1    |  + 1.000 + 0.000j V |\n",
      "|   2    |  - 0.223 - 0.960j V |\n",
      "|   3    |  + 0.941 - 0.338j V |\n"
     ]
    }
   ],
   "execution_count": 55
  },
  {
   "metadata": {
    "ExecuteTime": {
     "end_time": "2025-02-06T01:08:39.053020Z",
     "start_time": "2025-02-06T01:08:39.046268Z"
    }
   },
   "cell_type": "code",
   "source": [
    "10# Calculate branch currents\n",
    "branch_currents = {\n",
    "    \"I_12\": imp_matrix[0] * (emf_matrix[0][0] - emf_matrix[1][0]),\n",
    "    \"I_13\": imp_matrix[1] * (emf_matrix[0][0] - emf_matrix[2][0]),\n",
    "    \"I_21\": imp_matrix[0] * (emf_matrix[1][0] - emf_matrix[0][0]),\n",
    "    \"I_23\": imp_matrix[2] * (emf_matrix[1][0] - emf_matrix[2][0]),\n",
    "    \"I_31\": imp_matrix[1] * (emf_matrix[2][0] - emf_matrix[0][0]),\n",
    "    \"I_32\": imp_matrix[2] * (emf_matrix[2][0] - emf_matrix[1][0]),\n",
    "}\n",
    "\n",
    "# Print branch currents in PU\n",
    "print(\"Branch Currents in PU\")\n",
    "for key, value in branch_currents.items():\n",
    "    print(f\"{key}: {R2P(value, True, \"\")}\")\n",
    "print(\"\\n\")\n",
    "\n",
    "# Print branch currents in Amperes\n",
    "print(\"Branch Currents in Amps\")\n",
    "for key, value in branch_currents.items():\n",
    "    print(f\"{key}: {R2P(value, True, \"A\", i_base)}\")"
   ],
   "id": "b7b7d7be3630bd",
   "outputs": [
    {
     "name": "stdout",
     "output_type": "stream",
     "text": [
      "Branch Currents in PU\n",
      "I_12:  0.062 A ∠  2.236°\n",
      "I_13:  0.009 A ∠  2.969°\n",
      "I_21:  0.062 A ∠ -0.905°\n",
      "I_23:  0.026 A ∠  -1.08°\n",
      "I_31:  0.009 A ∠ -0.173°\n",
      "I_32:  0.026 A ∠  2.062°\n",
      "\n",
      "\n",
      "Branch Currents in Amps\n",
      "I_12: 15.548 A ∠  2.236°\n",
      "I_13:  2.144 A ∠  2.969°\n",
      "I_21: 15.548 A ∠ -0.905°\n",
      "I_23:  6.599 A ∠  -1.08°\n",
      "I_31:  2.144 A ∠ -0.173°\n",
      "I_32:  6.599 A ∠  2.062°\n"
     ]
    }
   ],
   "execution_count": 49
  },
  {
   "metadata": {
    "ExecuteTime": {
     "end_time": "2025-02-06T01:26:32.465826Z",
     "start_time": "2025-02-06T01:26:32.456713Z"
    }
   },
   "cell_type": "code",
   "source": [
    "# Branch power flows\n",
    "apparent_power = {\n",
    "    \"S_12\": emf_matrix[0][0] * np.conj(branch_currents[\"I_12\"]),\n",
    "    \"S_13\": emf_matrix[0][0] * np.conj(branch_currents[\"I_13\"]),\n",
    "    \"S_21\": emf_matrix[1][0] * np.conj(branch_currents[\"I_21\"]),\n",
    "    \"S_23\": emf_matrix[1][0] * np.conj(branch_currents[\"I_23\"]),\n",
    "    \"S_31\": emf_matrix[2][0] * np.conj(branch_currents[\"I_31\"]),\n",
    "    \"S_32\": emf_matrix[2][0] * np.conj(branch_currents[\"I_32\"]),\n",
    "}\n",
    "\n",
    "print(\"Branch Power Flows in MVA\")\n",
    "for key, value in apparent_power.items():\n",
    "    print(f\"{key}: {R2P(value, True, \"MVA\", 100)}\")\n",
    "print(\"\\n\")\n",
    "\n",
    "print(\"Branch Power Flows in MW and MVAr\")\n",
    "for key, value in apparent_power.items():\n",
    "    print(f\"{key}: {round(value.real * 100, 3):>6} MW & {round(value.imag * 100, 3):>6} MVAr\")"
   ],
   "id": "ba14296d490efc68",
   "outputs": [
    {
     "name": "stdout",
     "output_type": "stream",
     "text": [
      "Branch Power Flows in MVA\n",
      "S_12:  6.219 MVA ∠ -2.236°\n",
      "S_13:  0.858 MVA ∠ -2.969°\n",
      "S_21:  6.129 MVA ∠ -0.894°\n",
      "S_23:  2.601 MVA ∠ -0.719°\n",
      "S_31:  0.858 MVA ∠ -0.172°\n",
      "S_32:  2.639 MVA ∠ -2.406°\n",
      "\n",
      "\n",
      "Branch Power Flows in MW and MVAr\n",
      "S_12:  -3.84 MW & -4.892 MVAr\n",
      "S_13: -0.845 MW & -0.148 MVAr\n",
      "S_21:   3.84 MW & -4.777 MVAr\n",
      "S_23:  1.957 MW & -1.713 MVAr\n",
      "S_31:  0.845 MW & -0.147 MVAr\n",
      "S_32: -1.957 MW &  -1.77 MVAr\n"
     ]
    }
   ],
   "execution_count": 59
  },
  {
   "metadata": {
    "ExecuteTime": {
     "end_time": "2025-02-06T01:22:43.200331Z",
     "start_time": "2025-02-06T01:22:43.195454Z"
    }
   },
   "cell_type": "code",
   "source": [
    "bus_1 = P2R(1.000, 0.000)\n",
    "bus_2 = P2R(0.986, -1.799)\n",
    "bus_3 = P2R(1.000, -0.345)\n",
    "\n",
    "vol_1_2 = R2P(bus_1 - bus_2, True, \"kV\", v_base/1000)\n",
    "vol_1_3 = R2P(bus_1 - bus_3, True, \"kV\", v_base/1000)\n",
    "vol_2_3 = R2P(bus_2 - bus_3, True, \"kV\", v_base/1000)\n",
    "\n",
    "print(f\"voltage 1 -> 2: {vol_1_2}\")\n",
    "print(f\"voltage 1 -> 3: {vol_1_3}\")\n",
    "print(f\"voltage 1 -> 2: {vol_2_3}\")\n"
   ],
   "id": "7dc4d930005bb7a1",
   "outputs": [
    {
     "name": "stdout",
     "output_type": "stream",
     "text": [
      "voltage 1 -> 2: 621.91 kV ∠  0.665°\n",
      "voltage 1 -> 3: 137.244 kV ∠  1.398°\n",
      "voltage 1 -> 2: 527.906 kV ∠ -2.651°\n"
     ]
    }
   ],
   "execution_count": 56
  }
 ],
 "metadata": {
  "kernelspec": {
   "display_name": "Python 3",
   "language": "python",
   "name": "python3"
  },
  "language_info": {
   "codemirror_mode": {
    "name": "ipython",
    "version": 2
   },
   "file_extension": ".py",
   "mimetype": "text/x-python",
   "name": "python",
   "nbconvert_exporter": "python",
   "pygments_lexer": "ipython2",
   "version": "2.7.6"
  }
 },
 "nbformat": 4,
 "nbformat_minor": 5
}
