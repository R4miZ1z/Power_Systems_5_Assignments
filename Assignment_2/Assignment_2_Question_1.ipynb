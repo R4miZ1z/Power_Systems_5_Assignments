{
 "cells": [
  {
   "metadata": {},
   "cell_type": "markdown",
   "source": "# Imports",
   "id": "68787fcd2fd13a7a"
  },
  {
   "cell_type": "code",
   "id": "initial_id",
   "metadata": {
    "collapsed": true,
    "ExecuteTime": {
     "end_time": "2025-02-27T16:19:39.183752Z",
     "start_time": "2025-02-27T16:19:38.831817Z"
    }
   },
   "source": [
    "import numpy as np\n",
    "from tabulate import tabulate"
   ],
   "outputs": [],
   "execution_count": 1
  },
  {
   "metadata": {},
   "cell_type": "markdown",
   "source": "# Some helper functions",
   "id": "715253f8797a4b94"
  },
  {
   "metadata": {
    "ExecuteTime": {
     "end_time": "2025-02-27T16:19:39.202251Z",
     "start_time": "2025-02-27T16:19:39.192771Z"
    }
   },
   "cell_type": "code",
   "source": [
    "def pol_to_rec(radii: float, angle: float) -> complex:\n",
    "    \"\"\"\n",
    "    Convert polar coordinates to rectangular coordinates.\n",
    "\n",
    "    Parameters\n",
    "    ----------\n",
    "    radii: float\n",
    "        Magnitude of the vector/phasor\n",
    "    angle: float\n",
    "        Angle of the vector/phasor in degrees\n",
    "\n",
    "    Returns\n",
    "    -------\n",
    "    complex\n",
    "        Rectangular coordinates of the vector/phasor\n",
    "    \"\"\"\n",
    "    angle = angle * np.pi / 180\n",
    "    return radii * (np.cos(angle) + 1j * np.sin(angle))\n",
    "\n",
    "def rec_to_pol(z: complex) -> list[float]:\n",
    "    \"\"\"\n",
    "    Convert rectangular coordinates to polar coordinates.\n",
    "\n",
    "    Parameters\n",
    "    ----------\n",
    "    z: complex\n",
    "        Rectangular coordinates of the vector/phasor\n",
    "\n",
    "    Returns\n",
    "    -------\n",
    "    list[float]\n",
    "        Polar coordinates of the vector/phasor in the format [radii, degree angle]\n",
    "    \"\"\"\n",
    "    return [np.abs(z), np.angle(z, deg = True)]"
   ],
   "id": "89c8470f6ba9ce67",
   "outputs": [],
   "execution_count": 2
  },
  {
   "metadata": {},
   "cell_type": "markdown",
   "source": "# Question 1.1",
   "id": "2a79332a0b6ee08c"
  },
  {
   "metadata": {},
   "cell_type": "markdown",
   "source": "## Provided impedances from the question",
   "id": "99f05a260a244006"
  },
  {
   "metadata": {
    "ExecuteTime": {
     "end_time": "2025-02-27T16:19:39.373412Z",
     "start_time": "2025-02-27T16:19:39.364654Z"
    }
   },
   "cell_type": "code",
   "source": [
    "imp_1_2: complex = 0.0 + 0.125j     # Impedance from bus 1 to bus 2\n",
    "imp_1_3: complex = 0.0 + 0.250j     # Impedance from bus 1 to bus 3\n",
    "imp_1_4: complex = 0.0 + 0.400j     # Impedance from bus 1 to bus 4\n",
    "imp_2_3: complex = 0.0 + 0.250j     # Impedance from bus 2 to bus 3\n",
    "imp_2_4: complex = 0.0 + 0.200j     # Impedance from bus 2 to bus 4\n",
    "imp_3_0: complex = 0.0 + 1.250j     # Impedance from bus 3 to bus 0\n",
    "imp_4_0: complex = 0.0 + 1.250j     # Impedance from bus 4 to bus 0\n",
    "\n",
    "add_1_2: complex = 1 / imp_1_2      # admittance of line 1-2\n",
    "add_1_3: complex = 1 / imp_1_3      # admittance of line 1-3\n",
    "add_1_4: complex = 1 / imp_1_4      # admittance of line 1-4\n",
    "add_2_3: complex = 1 / imp_2_3      # admittance of line 2-3\n",
    "add_2_4: complex = 1 / imp_2_4      # admittance of line 2-4\n",
    "add_3_0: complex = 1 / imp_3_0      # admittance of line 3-0\n",
    "add_4_0: complex = 1 / imp_4_0      # admittance of line 4-0"
   ],
   "id": "da15c4fb9545b961",
   "outputs": [],
   "execution_count": 3
  },
  {
   "metadata": {},
   "cell_type": "markdown",
   "source": "## Calculate the mutual and self admittances",
   "id": "247e542841f21c47"
  },
  {
   "metadata": {
    "ExecuteTime": {
     "end_time": "2025-02-27T16:19:39.457044Z",
     "start_time": "2025-02-27T16:19:39.426667Z"
    }
   },
   "cell_type": "code",
   "source": [
    "# Mutual admittances\n",
    "Y_12: complex = -add_1_2    # mutual admittance of line 1-2\n",
    "Y_13: complex = -add_1_3    # mutual admittance of line 1-3\n",
    "Y_14: complex = -add_1_4    # mutual admittance of line 1-4\n",
    "Y_23: complex = -add_2_3    # mutual admittance of line 2-3\n",
    "Y_24: complex = -add_2_4    # mutual admittance of line 2-4\n",
    "Y_30: complex = -add_3_0    # mutual admittance of line 3-0\n",
    "Y_40: complex = -add_4_0    # mutual admittance of line 4-0\n",
    "Y_21: complex = -add_1_2    # mutual admittance of line 2-1\n",
    "Y_31: complex = -add_1_3    # mutual admittance of line 3-1\n",
    "Y_41: complex = -add_1_4    # mutual admittance of line 4-1\n",
    "Y_32: complex = -add_2_3    # mutual admittance of line 3-2\n",
    "Y_42: complex = -add_2_4    # mutual admittance of line 4-2\n",
    "\n",
    "Y_34: complex = 0.0         # mutual admittance of line 3-4\n",
    "Y_43: complex = 0.0         # mutual admittance of line 4-3\n",
    "\n",
    "# Self admittances\n",
    "Y_11: complex = add_1_2 + add_1_3 + add_1_4     # self admittance of bus 1\n",
    "Y_22: complex = add_1_2 + add_2_3 + add_2_4     # self admittance of bus 2\n",
    "Y_33: complex = add_1_3 + add_2_3 + add_3_0     # self admittance of bus 3\n",
    "Y_44: complex = add_1_4 + add_2_4 + add_4_0     # self admittance of bus 4\n",
    "\n",
    "# Construct admittance matrix\n",
    "Y_matrix: np.ndarray = np.array(\n",
    "    [\n",
    "        [Y_11, Y_12, Y_13, Y_14],\n",
    "        [Y_21, Y_22, Y_23, Y_24],\n",
    "        [Y_31, Y_32, Y_33, Y_34],\n",
    "        [Y_41, Y_42, Y_43, Y_44],\n",
    "    ]\n",
    ")\n",
    "\n",
    "Y_matrix.imag"
   ],
   "id": "39b825f7de7c4a83",
   "outputs": [
    {
     "data": {
      "text/plain": [
       "array([[-14.5,   8. ,   4. ,   2.5],\n",
       "       [  8. , -17. ,   4. ,   5. ],\n",
       "       [  4. ,   4. ,  -8.8,   0. ],\n",
       "       [  2.5,   5. ,   0. ,  -8.3]])"
      ]
     },
     "execution_count": 4,
     "metadata": {},
     "output_type": "execute_result"
    }
   ],
   "execution_count": 4
  },
  {
   "metadata": {},
   "cell_type": "markdown",
   "source": "## Define the current phasors",
   "id": "dc42fe42ca9f4613"
  },
  {
   "metadata": {
    "ExecuteTime": {
     "end_time": "2025-02-27T16:19:41.451162Z",
     "start_time": "2025-02-27T16:19:41.403273Z"
    }
   },
   "cell_type": "code",
   "source": [
    "I_1: complex = pol_to_rec(0.00, 0.00)      # Current at bus 1\n",
    "I_2: complex = pol_to_rec(0.00, 0.00)      # Current at bus 2\n",
    "I_3: complex = pol_to_rec(1.00, -90.00)    # Current at bus 3\n",
    "I_4: complex = pol_to_rec(0.68, -135.00)   # Current at bus 4\n",
    "\n",
    "# Construct current vector\n",
    "I_vector: np.ndarray = np.array(\n",
    "    [\n",
    "        [I_1],\n",
    "        [I_2],\n",
    "        [I_3],\n",
    "        [I_4]\n",
    "    ]\n",
    ")"
   ],
   "id": "15c005d840302b02",
   "outputs": [],
   "execution_count": 5
  },
  {
   "metadata": {},
   "cell_type": "markdown",
   "source": "# Question 1.2",
   "id": "da9c2ebe4aeb4fac"
  },
  {
   "metadata": {},
   "cell_type": "markdown",
   "source": "## Solve the system of linear equations to calculate the bus voltages",
   "id": "e6740d5a6221c28f"
  },
  {
   "metadata": {
    "ExecuteTime": {
     "end_time": "2025-02-27T16:19:41.782264Z",
     "start_time": "2025-02-27T16:19:41.701101Z"
    }
   },
   "cell_type": "code",
   "source": [
    "# Using triangular factorisation to solve the system of linear equations\n",
    "V_vector = np.linalg.solve(Y_matrix, I_vector)\n",
    "\n",
    "# Round the values to 3 decimal places\n",
    "V_vector_rounded = np.round(V_vector, 3)\n",
    "\n",
    "V_vector_header = [\"Bus\", \"Rectangular Voltage\", \"Polar Voltage\"]\n",
    "V_vector_data = []\n",
    "for index, value in enumerate(V_vector_rounded):\n",
    "    V_vector_data.append(\n",
    "        [\n",
    "            f\"V_{index + 1}\",\n",
    "in            f\"{\"+\" if value[0].real else \"-\"} {abs(value[0].real):^7.3f} {\"+\" if value[0].imag else \"-\"} {abs(value[0].imag):^7.3f}j\",\n",
    "            f\"{rec_to_pol(value[0])[0]:^7.5f} V \" u\"\\N{ANGLE}\" f\" {rec_to_pol(value[0])[1]:^7.5f}\" u\"\\N{DEGREE SIGN}\",\n",
    "\n",
    "        ]\n",
    "    )\n",
    "\n",
    "print(tabulate(V_vector_data, headers=V_vector_header, tablefmt = \"pipe\", numalign=\"center\", stralign=\"center\"))"
   ],
   "id": "7e6a18ff498a4d74",
   "outputs": [
    {
     "name": "stdout",
     "output_type": "stream",
     "text": [
      "|  Bus  |  Rectangular Voltage  |     Polar Voltage      |\n",
      "|:-----:|:---------------------:|:----------------------:|\n",
      "|  V_1  | +  0.928  +  0.298 j  | 0.97467 V ∠ -17.80290° |\n",
      "|  V_2  | +  0.925  +  0.301 j  | 0.97274 V ∠ -18.02517° |\n",
      "|  V_3  | +  0.956  +  0.272 j  | 0.99394 V ∠ -15.88205° |\n",
      "|  V_4  | +  0.895  +  0.329 j  | 0.95355 V ∠ -20.18331° |\n"
     ]
    }
   ],
   "execution_count": 6
  },
  {
   "metadata": {},
   "cell_type": "markdown",
   "source": "## Compute branch currents",
   "id": "fb097e8efddef5fd"
  },
  {
   "metadata": {
    "ExecuteTime": {
     "end_time": "2025-02-27T16:19:41.914332Z",
     "start_time": "2025-02-27T16:19:41.887218Z"
    }
   },
   "cell_type": "code",
   "source": [
    "# Calculate branch currents\n",
    "I_12: complex = add_1_2 * (V_vector[0][0] - V_vector[1][0])\n",
    "I_13: complex = add_1_3 * (V_vector[0][0] - V_vector[2][0])\n",
    "I_14: complex = add_1_4 * (V_vector[0][0] - V_vector[3][0])\n",
    "I_23: complex = add_2_3 * (V_vector[1][0] - V_vector[2][0])\n",
    "I_24: complex = add_2_4 * (V_vector[1][0] - V_vector[3][0])\n",
    "\n",
    "I_30: complex = add_3_0 * (V_vector[2][0])\n",
    "I_40: complex = add_4_0 * (V_vector[3][0])\n",
    "\n",
    "I_21: complex = add_1_2 * (V_vector[1][0] - V_vector[0][0])\n",
    "I_31: complex = add_1_3 * (V_vector[2][0] - V_vector[0][0])\n",
    "I_41: complex = add_1_4 * (V_vector[3][0] - V_vector[0][0])\n",
    "I_32: complex = add_2_3 * (V_vector[2][0] - V_vector[1][0])\n",
    "I_42: complex = add_2_4 * (V_vector[3][0] - V_vector[1][0])\n",
    "\n",
    "I_branch_vector: dict[str, complex] = {\n",
    "    \"I_12\": I_12,\n",
    "    \"I_13\": I_13,\n",
    "    \"I_14\": I_14,\n",
    "    \"I_23\": I_23,\n",
    "    \"I_24\": I_24,\n",
    "    \"I_30\": I_30,\n",
    "    \"I_40\": I_40,\n",
    "    \"I_21\": I_21,\n",
    "    \"I_31\": I_31,\n",
    "    \"I_41\": I_41,\n",
    "    \"I_32\": I_32,\n",
    "    \"I_42\": I_42\n",
    "}\n",
    "\n",
    "I_branch_header = [\"Branch\", \"Rectangular Current\", \"Polar Current\"]\n",
    "I_branch_data = []\n",
    "for key, value in I_branch_vector.items():\n",
    "    sign_real = \"+\" if value.real >= 0 else \"-\"\n",
    "    sign_imag = \"+\" if value.imag >= 0 else \"-\"\n",
    "    I_branch_data.append(\n",
    "        [\n",
    "            key,\n",
    "            f\"{sign_real:^1} {abs(value.real):^7.5f} {sign_imag:^1} {abs(value.imag):^7.5f}j\",\n",
    "            f\"{abs(value):^7.5f} A \" u\"\\N{ANGLE}\" f\" {np.angle(value, deg=True):>10.5f}\" u\"\\N{DEGREE SIGN}\"\n",
    "        ]\n",
    "    )\n",
    "print(tabulate(I_branch_data, headers=I_branch_header, tablefmt = \"pipe\", numalign=\"center\", stralign=\"center\"))"
   ],
   "id": "6c406feb7485cd8c",
   "outputs": [
    {
     "name": "stdout",
     "output_type": "stream",
     "text": [
      "|  Branch  |  Rectangular Current  |      Polar Current      |\n",
      "|:--------:|:---------------------:|:-----------------------:|\n",
      "|   I_12   | + 0.02488 - 0.02687j  | 0.03662 A ∠  -47.19535° |\n",
      "|   I_13   | - 0.10264 + 0.11082j  | 0.15105 A ∠  132.80465° |\n",
      "|   I_14   | + 0.07775 - 0.08395j  | 0.11443 A ∠  -47.19535° |\n",
      "|   I_23   | - 0.11508 + 0.12425j  | 0.16935 A ∠  132.80465° |\n",
      "|   I_24   | + 0.13996 - 0.15112j  | 0.20597 A ∠  -47.19535° |\n",
      "|   I_30   | - 0.21771 - 0.76493j  | 0.79531 A ∠ -105.88724° |\n",
      "|   I_40   | - 0.26312 - 0.71590j  | 0.76272 A ∠ -110.18026° |\n",
      "|   I_21   | - 0.02488 + 0.02687j  | 0.03662 A ∠  132.80465° |\n",
      "|   I_31   | + 0.10264 - 0.11082j  | 0.15105 A ∠  -47.19535° |\n",
      "|   I_41   | - 0.07775 + 0.08395j  | 0.11443 A ∠  132.80465° |\n",
      "|   I_32   | + 0.11508 - 0.12425j  | 0.16935 A ∠  -47.19535° |\n",
      "|   I_42   | - 0.13996 + 0.15112j  | 0.20597 A ∠  132.80465° |\n"
     ]
    }
   ],
   "execution_count": 7
  },
  {
   "metadata": {},
   "cell_type": "markdown",
   "source": "## Compute branch power flows",
   "id": "e9b40fe780155e3e"
  },
  {
   "metadata": {
    "ExecuteTime": {
     "end_time": "2025-02-27T16:19:42.043328Z",
     "start_time": "2025-02-27T16:19:42.016771Z"
    }
   },
   "cell_type": "code",
   "source": [
    "# Calculate the power flows in each line\n",
    "S_12: complex = V_vector[0][0] * np.conj(I_12)  # Power flow in line 1-2\n",
    "S_13: complex = V_vector[0][0] * np.conj(I_13)  # Power flow in line 1-3\n",
    "S_14: complex = V_vector[0][0] * np.conj(I_14)  # Power flow in line 1-4\n",
    "S_23: complex = V_vector[1][0] * np.conj(I_23)  # Power flow in line 2-3\n",
    "S_24: complex = V_vector[1][0] * np.conj(I_24)  # Power flow in line 2-4\n",
    "\n",
    "S_30: complex = V_vector[2][0] * np.conj(I_30)  # Power flow in line 3-0\n",
    "S_40: complex = V_vector[3][0] * np.conj(I_40)  # Power flow in line 4-0\n",
    "\n",
    "S_21: complex = V_vector[1][0] * np.conj(I_21)  # Power flow in line 2-1\n",
    "S_31: complex = V_vector[2][0] * np.conj(I_31)  # Power flow in line 3-1\n",
    "S_41: complex = V_vector[3][0] * np.conj(I_41)  # Power flow in line 4-1\n",
    "S_32: complex = V_vector[2][0] * np.conj(I_32)  # Power flow in line 3-2\n",
    "S_42: complex = V_vector[3][0] * np.conj(I_42)  # Power flow in line 4-2\n",
    "\n",
    "S_vector: dict[str, complex] = {\n",
    "    \"S_12\": S_12,\n",
    "    \"S_13\": S_13,\n",
    "    \"S_14\": S_14,\n",
    "    \"S_23\": S_23,\n",
    "    \"S_24\": S_24,\n",
    "    \"S_30\": S_30,\n",
    "    \"S_40\": S_40,\n",
    "    \"S_21\": S_21,\n",
    "    \"S_31\": S_31,\n",
    "    \"S_41\": S_41,\n",
    "    \"S_32\": S_32,\n",
    "    \"S_42\": S_42\n",
    "}\n",
    "\n",
    "# Print out the power flows in each line\n",
    "S_branch_header = [\"Branch\", \"Rectangular Apparent Power\", \"Polar Apparent Power\"]\n",
    "S_branch_data = []\n",
    "for key, value in S_vector.items():\n",
    "    sign_real = \"+\" if value.real >= 0 else \"-\"\n",
    "    sign_imag = \"+\" if value.imag >= 0 else \"-\"\n",
    "    S_branch_data.append(\n",
    "        [\n",
    "            key,\n",
    "            f\"{sign_real:^1} {abs(value.real):>8.5f} {sign_imag:^1} {abs(value.imag):>8.5f}j\",\n",
    "            f\"{abs(value):>10.5f} \" \"MVA \" u\"\\N{ANGLE}\" f\" {np.angle(value, deg=True):>10.5f}\" u\"\\N{DEGREE SIGN}\"\n",
    "        ]\n",
    "    )\n",
    "print(tabulate(S_branch_data, headers=S_branch_header, tablefmt = \"pipe\", numalign=\"center\", stralign=\"center\"))"
   ],
   "id": "2d47002c8c3e4097",
   "outputs": [
    {
     "name": "stdout",
     "output_type": "stream",
     "text": [
      "|  Branch  |  Rectangular Apparent Power  |   Polar Apparent Power    |\n",
      "|:--------:|:----------------------------:|:-------------------------:|\n",
      "|   S_12   |    +  0.03110 +  0.01753j    | 0.03570 MVA ∠   29.41194° |\n",
      "|   S_13   |    -  0.12829 -  0.07233j    | 0.14728 MVA ∠ -150.58806° |\n",
      "|   S_14   |    +  0.09719 +  0.05479j    | 0.11157 MVA ∠   29.41194° |\n",
      "|   S_23   |    -  0.14385 -  0.08032j    | 0.16475 MVA ∠ -150.82290° |\n",
      "|   S_24   |    +  0.17495 +  0.09768j    | 0.20037 MVA ∠   29.17710° |\n",
      "|   S_30   |    +  0.00000 +  0.79065j    | 0.79065 MVA ∠   90.00000° |\n",
      "|   S_40   |    +  0.00000 +  0.72719j    | 0.72719 MVA ∠   90.00000° |\n",
      "|   S_21   |    -  0.03110 -  0.01737j    | 0.03562 MVA ∠ -150.82290° |\n",
      "|   S_31   |    +  0.12829 +  0.07803j    | 0.15016 MVA ∠   31.30811° |\n",
      "|   S_41   |    -  0.09719 -  0.04955j    | 0.10910 MVA ∠ -152.98491° |\n",
      "|   S_32   |    +  0.14385 +  0.08749j    | 0.16836 MVA ∠   31.30811° |\n",
      "|   S_42   |    -  0.17495 -  0.08920j    | 0.19637 MVA ∠ -152.98491° |\n"
     ]
    }
   ],
   "execution_count": 8
  },
  {
   "metadata": {},
   "cell_type": "markdown",
   "source": "# Question 1.3",
   "id": "80bbe6a16de3c417"
  },
  {
   "metadata": {},
   "cell_type": "markdown",
   "source": [
    "## Shunt admittance calculation\n",
    "Each bus has 3 connections hence each will have $3 \\times 0.1 \\text{ p.u.}$ shunt admittance."
   ],
   "id": "549cd3003451317c"
  },
  {
   "metadata": {
    "ExecuteTime": {
     "end_time": "2025-02-27T16:19:42.181138Z",
     "start_time": "2025-02-27T16:19:42.166680Z"
    }
   },
   "cell_type": "code",
   "source": [
    "# defining shunt admittance\n",
    "shunt_admittance = 3 * 0.2j / 2  # with 3 lines per bus and half of 0.2 p.u. per line\n",
    "\n",
    "# Add shunt admittance to diagonal elements\n",
    "Y_matrix[np.diag_indices_from(Y_matrix)] += shunt_admittance\n",
    "\n",
    "Y_matrix_rounded = np.round(Y_matrix, 3)\n",
    "\n",
    "# Print final matrix\n",
    "Y_matrix_rounded.imag"
   ],
   "id": "2f4f353979eb573f",
   "outputs": [
    {
     "data": {
      "text/plain": [
       "array([[-14.2,   8. ,   4. ,   2.5],\n",
       "       [  8. , -16.7,   4. ,   5. ],\n",
       "       [  4. ,   4. ,  -8.5,   0. ],\n",
       "       [  2.5,   5. ,   0. ,  -8. ]])"
      ]
     },
     "execution_count": 9,
     "metadata": {},
     "output_type": "execute_result"
    }
   ],
   "execution_count": 9
  },
  {
   "metadata": {},
   "cell_type": "code",
   "outputs": [],
   "execution_count": null,
   "source": "",
   "id": "7aaa5baa52134b6e"
  }
 ],
 "metadata": {
  "kernelspec": {
   "display_name": "Python 3",
   "language": "python",
   "name": "python3"
  },
  "language_info": {
   "codemirror_mode": {
    "name": "ipython",
    "version": 2
   },
   "file_extension": ".py",
   "mimetype": "text/x-python",
   "name": "python",
   "nbconvert_exporter": "python",
   "pygments_lexer": "ipython2",
   "version": "2.7.6"
  }
 },
 "nbformat": 4,
 "nbformat_minor": 5
}
