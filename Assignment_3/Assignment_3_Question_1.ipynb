{
 "cells": [
  {
   "cell_type": "markdown",
   "id": "7e53b11207b77a66",
   "metadata": {},
   "source": [
    "# Imports"
   ]
  },
  {
   "cell_type": "code",
   "execution_count": 10,
   "id": "initial_id",
   "metadata": {
    "ExecuteTime": {
     "end_time": "2025-03-28T11:58:52.038384Z",
     "start_time": "2025-03-28T11:58:52.016750Z"
    },
    "collapsed": true
   },
   "outputs": [],
   "source": [
    "# Imports\n",
    "import numpy as np\n",
    "import pandas as pd\n",
    "from tabulate import tabulate\n",
    "import matplotlib.pyplot as plt"
   ]
  },
  {
   "cell_type": "markdown",
   "id": "f88723938ab9e287",
   "metadata": {},
   "source": [
    "# Some helper functions"
   ]
  },
  {
   "cell_type": "code",
   "execution_count": 11,
   "id": "3e267b47e0122d05",
   "metadata": {
    "ExecuteTime": {
     "end_time": "2025-03-28T11:58:52.091196Z",
     "start_time": "2025-03-28T11:58:52.079936Z"
    }
   },
   "outputs": [],
   "source": [
    "def calculate_reactive_pf(power_factor: float) -> float:\n",
    "    \"\"\"\n",
    "    Calculate sin(theta) from power factor.\n",
    "\n",
    "    Parameters\n",
    "    ----------\n",
    "    power_factor: float\n",
    "        Power factor of the load\n",
    "\n",
    "    Returns\n",
    "    -------\n",
    "    float\n",
    "        sin(theta) of the load\n",
    "    \"\"\"\n",
    "    return np.sin(np.arccos(power_factor))"
   ]
  },
  {
   "cell_type": "code",
   "execution_count": 12,
   "id": "cf17720594727065",
   "metadata": {
    "ExecuteTime": {
     "end_time": "2025-03-28T11:58:52.136499Z",
     "start_time": "2025-03-28T11:58:52.127477Z"
    }
   },
   "outputs": [],
   "source": [
    "s_base = 100e6  # base power in VA"
   ]
  },
  {
   "cell_type": "markdown",
   "id": "bfa4e9ba1e74fc8c",
   "metadata": {},
   "source": [
    "# Transformer Reactances"
   ]
  },
  {
   "cell_type": "code",
   "execution_count": 13,
   "id": "a2ff48124bf74b3c",
   "metadata": {
    "ExecuteTime": {
     "end_time": "2025-03-28T11:58:52.184641Z",
     "start_time": "2025-03-28T11:58:52.159155Z"
    }
   },
   "outputs": [
    {
     "name": "stdout",
     "output_type": "stream",
     "text": [
      "|  From   |   To    |    Rating(MVA)    |       Z (pu)        |\n",
      "|:-------:|:-------:|:-----------------:|:-------------------:|\n",
      "|    3    |    4    |        120        | + 0.00000 + 0.08333 |\n",
      "|    5    |    6    |        75         | + 0.00000 + 0.10000 |\n",
      "|    7    |    8    |        10         | + 0.00000 + 0.50000 |\n",
      "|    9    |   10    |         3         | + 0.00000 + 1.66667 |\n"
     ]
    }
   ],
   "source": [
    "t_dict: dict[str, list[int | float]] = {\n",
    "    \"from\": [3, 5, 7, 9, ],\n",
    "    \"to\": [4, 6, 8, 10],\n",
    "    \"rating\": [120, 75, 10, 3],\n",
    "    \"r\": [0, 0, 0, 0, ],\n",
    "    \"x\": [10, 7.5, 5.0, 5.0],\n",
    "}\n",
    "\n",
    "header_transformer: list[str] = [f\"{\"From\":^5}\", f\"{\"To\":^5}\", f\"{\"Rating(MVA)\":^15}\", f\"{\"Z (pu)\":^15}\"]\n",
    "table_transformer: list[list[str]] = []\n",
    "\n",
    "for i in range(len(t_dict[\"from\"])):\n",
    "    rating = t_dict[\"rating\"][i] * 10 ** 6\n",
    "    r = t_dict[\"r\"][i]\n",
    "    x = t_dict[\"x\"][i]\n",
    "    z = r / 100 + 1j * x / 100\n",
    "    z_new = z * s_base / rating\n",
    "    r_new, x_new = z_new.real, z_new.imag\n",
    "    r_sign = \"+\" if r_new >= 0 else \"-\"\n",
    "    x_sign = \"+\" if x_new >= 0 else \"-\"\n",
    "    table_transformer.append(\n",
    "        [\n",
    "            f\"{t_dict[\"from\"][i]:^5}\",\n",
    "            f\"{t_dict[\"to\"][i]:^5}\",\n",
    "            f\"{t_dict[\"rating\"][i]:^15}\",\n",
    "            f\"{r_sign:^1} {abs(r_new):^5.5f} {x_sign:^1} {abs(x_new):^5.5f}\"\n",
    "        ]\n",
    "    )\n",
    "\n",
    "print(tabulate(table_transformer, headers=header_transformer, tablefmt=\"pipe\", numalign=\"center\", stralign=\"center\"))"
   ]
  },
  {
   "cell_type": "markdown",
   "id": "f293ca40cb131af0",
   "metadata": {},
   "source": [
    "# Line Impedances"
   ]
  },
  {
   "cell_type": "code",
   "execution_count": 14,
   "id": "fc82390e233f36a7",
   "metadata": {
    "ExecuteTime": {
     "end_time": "2025-03-28T11:58:52.427842Z",
     "start_time": "2025-03-28T11:58:52.400492Z"
    }
   },
   "outputs": [
    {
     "name": "stdout",
     "output_type": "stream",
     "text": [
      "|  From   |   To    |    Rating(MVA)    |         Z (pu)           |\n",
      "|:-------:|:-------:|:-----------------:|:------------------------:|\n",
      "|    1    |    2    |        150        | + 0.01000 + 0.04999 p.u. |\n",
      "|    1    |    3    |        150        | + 0.01500 + 0.07498 p.u. |\n",
      "|    2    |    3    |        150        | + 0.00500 + 0.02499 p.u. |\n",
      "|    4    |    5    |        115        | + 0.00781 + 0.04637 p.u. |\n",
      "|    6    |    7    |        11         | + 0.14784 + 0.62810 p.u. |\n",
      "|    8    |    9    |        10         | + 0.53719 + 0.40041 p.u. |\n"
     ]
    }
   ],
   "source": [
    "tl_dict: dict[str, list[int | float]] = {\n",
    "    \"from\": [1, 1, 2, 4, 6, 8, ],\n",
    "    \"to\": [2, 3, 3, 5, 7, 9, ],\n",
    "    \"v_base\": [345, 345, 345, 132, 33, 11, ],\n",
    "    \"rating\": [150, 150, 150, 115, 11, 10, ],\n",
    "    \"length\": [100, 150, 50, 20, 20, 5, ],\n",
    "    \"r\": [0.119, 0.119, 0.119, 0.068, 0.0805, 0.13, ],\n",
    "    \"x\": [0.595, 0.595, 0.595, 0.404, 0.342, 0.0969, ],\n",
    "}\n",
    "\n",
    "header_line: list[str] = [f\"{\"From\":^5}\", f\"{\"To\":^5}\", f\"{\"Rating(MVA)\":^15}\", f\"{\"Z (pu)\":^15}\"]\n",
    "table_line: list[list[str]] = []\n",
    "\n",
    "for i in range(len(tl_dict[\"from\"])):\n",
    "    x_base = (tl_dict[\"v_base\"][i] * 10 ** 3) ** 2 / s_base\n",
    "    l = tl_dict[\"length\"][i]\n",
    "    r = (tl_dict[\"r\"][i] * l) / x_base\n",
    "    x = (tl_dict[\"x\"][i] * l) / x_base\n",
    "    z = r + 1j * x\n",
    "    r_sign = \"+\" if r >= 0 else \"-\"\n",
    "    x_sign = \"+\" if x >= 0 else \"-\"\n",
    "    table_line.append(\n",
    "        [\n",
    "            f\"{tl_dict[\"from\"][i]:^5}\",\n",
    "            f\"{tl_dict[\"to\"][i]:^5}\",\n",
    "            f\"{tl_dict[\"rating\"][i]:^15}\",\n",
    "            f\"{x_base:^5.5f}\",\n",
    "            f\"{r_sign:^1} {abs(r):^5.5f} {x_sign:^1} {abs(x):^5.5f} p.u.\"\n",
    "        ]\n",
    "    )\n",
    "\n",
    "print(tabulate(table_line, headers=header_transformer, tablefmt=\"pipe\", numalign=\"center\", stralign=\"center\"))"
   ]
  }
 ],
 "metadata": {
  "kernelspec": {
   "display_name": "Python 3",
   "language": "python",
   "name": "python3"
  },
  "language_info": {
   "codemirror_mode": {
    "name": "ipython",
    "version": 2
   },
   "file_extension": ".py",
   "mimetype": "text/x-python",
   "name": "python",
   "nbconvert_exporter": "python",
   "pygments_lexer": "ipython2",
   "version": "2.7.6"
  }
 },
 "nbformat": 4,
 "nbformat_minor": 5
}
