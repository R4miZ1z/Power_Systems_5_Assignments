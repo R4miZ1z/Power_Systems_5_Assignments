{
 "cells": [
  {
   "metadata": {},
   "cell_type": "markdown",
   "source": "# Imports",
   "id": "728e1b6cc4b33a2e"
  },
  {
   "metadata": {
    "ExecuteTime": {
     "end_time": "2025-04-13T05:09:16.997942Z",
     "start_time": "2025-04-13T05:08:50.149614Z"
    }
   },
   "cell_type": "code",
   "source": [
    "from tabulate import tabulate\n",
    "import sympy as sym"
   ],
   "id": "24f91a76689392da",
   "outputs": [],
   "execution_count": 1
  },
  {
   "metadata": {
    "ExecuteTime": {
     "end_time": "2025-04-13T05:17:03.668531Z",
     "start_time": "2025-04-13T05:17:01.529393Z"
    }
   },
   "cell_type": "code",
   "source": [
    "P1, P2, l = sym.symbols(\"P1, P2, l\")\n",
    "eq1 = sym.Eq(40 * P1 + 700 + l * (0.2 * P1 - 1), 0)\n",
    "eq2 = sym.Eq(40 * P2 + 700 - l, 0)\n",
    "eq3 = sym.Eq(200 + 0.1 * (P1 ** 2) - P1 - P2, 0)\n",
    "\n",
    "results = sym.solve([eq1, eq2, eq3], (P1, P2, l))\n",
    "\n",
    "results_header = [\"P1\", \"P2\", \"lambda\"]\n",
    "results_data = []\n",
    "\n",
    "for result in results:\n",
    "    results_data.append([result[0], result[1], result[2], ])\n",
    "\n",
    "print(tabulate(results_data, headers=results_header, tablefmt=\"pipe\", ))\n"
   ],
   "id": "90b544c3c75e8e6b",
   "outputs": [
    {
     "name": "stdout",
     "output_type": "stream",
     "text": [
      "| P1                                    | P2                                     | lambda                                 |\n",
      "|:--------------------------------------|:---------------------------------------|:---------------------------------------|\n",
      "| 4.48869712283383                      | 197.526143063220                       | 8601.04572252879                       |\n",
      "| 5.25565143858309 - 46.9062476965931*I | -22.5130715316099 - 2.39832994043372*I | -200.522861264397 - 95.9331976173487*I |\n",
      "| 5.25565143858309 + 46.9062476965931*I | -22.5130715316099 + 2.39832994043372*I | -200.522861264397 + 95.9331976173487*I |\n"
     ]
    }
   ],
   "execution_count": 10
  },
  {
   "metadata": {},
   "cell_type": "code",
   "outputs": [],
   "execution_count": null,
   "source": "",
   "id": "79b69573a40aa43a"
  }
 ],
 "metadata": {
  "kernelspec": {
   "display_name": "Python 3",
   "language": "python",
   "name": "python3"
  },
  "language_info": {
   "codemirror_mode": {
    "name": "ipython",
    "version": 2
   },
   "file_extension": ".py",
   "mimetype": "text/x-python",
   "name": "python",
   "nbconvert_exporter": "python",
   "pygments_lexer": "ipython2",
   "version": "2.7.6"
  }
 },
 "nbformat": 4,
 "nbformat_minor": 5
}
