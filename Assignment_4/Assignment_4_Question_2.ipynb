{
 "cells": [
  {
   "cell_type": "code",
   "id": "initial_id",
   "metadata": {
    "collapsed": true,
    "ExecuteTime": {
     "end_time": "2025-04-17T03:41:20.655743Z",
     "start_time": "2025-04-17T03:41:20.630337Z"
    }
   },
   "source": [
    "import numpy as np\n",
    "import matplotlib.pyplot as plt\n",
    "from tabulate import tabulate"
   ],
   "outputs": [],
   "execution_count": 48
  },
  {
   "metadata": {
    "ExecuteTime": {
     "end_time": "2025-04-17T03:41:20.493676900Z",
     "start_time": "2025-04-16T04:03:02.255336Z"
    }
   },
   "cell_type": "code",
   "source": [
    "loads: dict[str, list[float]] = {\n",
    "    \"One\": [0.0, 0.0],\n",
    "    \"Two\": [40.0, 20.0],\n",
    "    \"Three\": [110.0, 40.0],\n",
    "    \"Four\": [80.0, 30.0],\n",
    "    \"Five\": [130.0, 40.0],\n",
    "    \"Six\": [200.0, 0.0],\n",
    "    \"Seven\": [200.0, 0.0],\n",
    "}"
   ],
   "id": "eebdeba0acbe7b02",
   "outputs": [],
   "execution_count": 37
  },
  {
   "metadata": {
    "ExecuteTime": {
     "end_time": "2025-04-17T03:41:20.497750800Z",
     "start_time": "2025-04-16T04:03:02.273027Z"
    }
   },
   "cell_type": "code",
   "source": [
    "increased_loads: list[list[str | float]] = []\n",
    "\n",
    "for key, value in loads.items():\n",
    "    increased_loads.append([key, value[0] * 1.80, value[1] * 1.80])\n",
    "\n",
    "increased_loads_headers: list[str] = [\"Bus\", \"MW Load\", \"MVAr Load\"]\n",
    "\n",
    "print(tabulate(increased_loads, headers=increased_loads_headers, tablefmt=\"pipe\", numalign=\"center\"))"
   ],
   "id": "952e4c38701cf864",
   "outputs": [
    {
     "name": "stdout",
     "output_type": "stream",
     "text": [
      "| Bus   |  MW Load  |  MVAr Load  |\n",
      "|:------|:---------:|:-----------:|\n",
      "| One   |     0     |      0      |\n",
      "| Two   |    72     |     36      |\n",
      "| Three |    198    |     72      |\n",
      "| Four  |    144    |     54      |\n",
      "| Five  |    234    |     72      |\n",
      "| Six   |    360    |      0      |\n",
      "| Seven |    360    |      0      |\n"
     ]
    }
   ],
   "execution_count": 38
  },
  {
   "metadata": {
    "ExecuteTime": {
     "end_time": "2025-04-17T03:41:20.511726600Z",
     "start_time": "2025-04-16T04:06:29.721209Z"
    }
   },
   "cell_type": "code",
   "source": [
    "max_gen_limits: dict[str, list[float]] = {\n",
    "    \"One\": [100.0, 400.0],\n",
    "    \"Two\": [150.0, 500.0],\n",
    "    \"Three\": [0.0, 0.0],\n",
    "    \"Four\": [50.0, 200.0],\n",
    "    \"Five\": [0.0, 0.0],\n",
    "    \"Six\": [150.0, 500.0],\n",
    "    \"Seven\": [0.0, 600.0],\n",
    "}"
   ],
   "id": "8d8f6db0afbc51af",
   "outputs": [],
   "execution_count": 46
  },
  {
   "metadata": {
    "ExecuteTime": {
     "end_time": "2025-04-17T03:41:20.527734400Z",
     "start_time": "2025-04-16T04:06:30.070010Z"
    }
   },
   "cell_type": "code",
   "source": [
    "adjusted_gen_limits: list[list[str | float]] = []\n",
    "\n",
    "for key, value in max_gen_limits.items():\n",
    "    adjusted_gen_limits.append([key, f\"{value[0]}/{value[1]}\", -value[1] * 0.5, value[1] * 0.5])\n",
    "\n",
    "adjusted_gen_limits_headers: list[str] = [\n",
    "    \"Bus\",\n",
    "    \"Gen MW Limits\",\n",
    "    \"Gen MVAr Lower Limit\",\n",
    "    \"Gen MVAr Upper Limit\",\n",
    "]\n",
    "\n",
    "print(tabulate(\n",
    "    adjusted_gen_limits,\n",
    "    headers=adjusted_gen_limits_headers,\n",
    "    tablefmt=\"pipe\",\n",
    "    numalign=\"center\",\n",
    "    stralign=\"center\",\n",
    "))"
   ],
   "id": "7ae3cd867db6214c",
   "outputs": [
    {
     "name": "stdout",
     "output_type": "stream",
     "text": [
      "|  Bus  |  Gen MW Limits  |  Gen MVAr Lower Limit  |  Gen MVAr Upper Limit  |\n",
      "|:-----:|:---------------:|:----------------------:|:----------------------:|\n",
      "|  One  |   100.0/400.0   |          -200          |          200           |\n",
      "|  Two  |   150.0/500.0   |          -250          |          250           |\n",
      "| Three |     0.0/0.0     |           -0           |           0            |\n",
      "| Four  |   50.0/200.0    |          -100          |          100           |\n",
      "| Five  |     0.0/0.0     |           -0           |           0            |\n",
      "|  Six  |   150.0/500.0   |          -250          |          250           |\n",
      "| Seven |    0.0/600.0    |          -300          |          300           |\n"
     ]
    }
   ],
   "execution_count": 47
  },
  {
   "metadata": {
    "ExecuteTime": {
     "end_time": "2025-04-17T03:41:20.530680300Z",
     "start_time": "2025-04-16T04:03:02.362001Z"
    }
   },
   "cell_type": "code",
   "source": [
    "pf_at_max_load: dict[str, list[float]] = {\n",
    "    \"One\": [228.519, -16.427],\n",
    "    \"Two\": [386.490, 70.199],\n",
    "    \"Four\": [200, 100],\n",
    "    \"Six\": [433.623, -6.898],\n",
    "    \"Seven\": [172.547, 198.801]\n",
    "}\n",
    "\n",
    "gen_pf_at_max_load: list[list[str | float]] = []\n",
    "\n",
    "for key, value in pf_at_max_load.items():\n",
    "    gen_pf_at_max_load.append([key, value[0] / np.sqrt(value[0] ** 2 + value[1] ** 2)])\n",
    "\n",
    "print(tabulate(gen_pf_at_max_load, headers=[\"Bus\", \"PF\"], tablefmt=\"pipe\", numalign=\"center\"))"
   ],
   "id": "6e338b61f577f451",
   "outputs": [
    {
     "name": "stdout",
     "output_type": "stream",
     "text": [
      "| Bus   |    PF    |\n",
      "|:------|:--------:|\n",
      "| One   | 0.997426 |\n",
      "| Two   | 0.983902 |\n",
      "| Four  | 0.894427 |\n",
      "| Six   | 0.999873 |\n",
      "| Seven | 0.655479 |\n"
     ]
    }
   ],
   "execution_count": 41
  },
  {
   "metadata": {
    "ExecuteTime": {
     "end_time": "2025-04-17T03:41:20.554752200Z",
     "start_time": "2025-04-16T04:03:02.443283Z"
    }
   },
   "cell_type": "code",
   "source": "",
   "id": "9279a67bbb586b0d",
   "outputs": [],
   "execution_count": null
  }
 ],
 "metadata": {
  "kernelspec": {
   "display_name": "Python 3",
   "language": "python",
   "name": "python3"
  },
  "language_info": {
   "codemirror_mode": {
    "name": "ipython",
    "version": 2
   },
   "file_extension": ".py",
   "mimetype": "text/x-python",
   "name": "python",
   "nbconvert_exporter": "python",
   "pygments_lexer": "ipython2",
   "version": "2.7.6"
  }
 },
 "nbformat": 4,
 "nbformat_minor": 5
}
